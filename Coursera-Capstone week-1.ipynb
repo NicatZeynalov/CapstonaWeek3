{
    "nbformat_minor": 1, 
    "cells": [
        {
            "source": "# IBM Data Science Professional Specialization - Coursera, Nijat Zeynalov\n", 
            "cell_type": "markdown", 
            "metadata": {
                "collapsed": true
            }
        }, 
        {
            "source": "This project is for Data Science Specialization on Coursera.", 
            "cell_type": "markdown", 
            "metadata": {}
        }, 
        {
            "source": "## I. Description of the Project:\n### 1. Introduction:\nThe restaurant industry is one of the most competitive sectors on the planet. Not only do we as a species need to eat and drink to survive; communal dining is an experience that people have cherished for centuries. And as we love to dine out whenever we can, there is a great deal of demand for restaurants in villages, towns, and cities across the planet. At its core, it is very important for you to find the best suitable place for restaurant, know factors which allow you to learn not only what types of cuisines certain populations prefer, but also how far consumers are willing to travel to satisfy their cravings. In this project, I will figure out all these issues for Baku city. By looking at this so, you\u2019ll make your restaurant more cohesive, more competitive, and of course \u2013 more profitable. The main objective of this project is to analyze, and select the best place in Baku, Azerbaijan to open a new restaurant. I have used some data science methodology and machine learning techniques to provide solutions.\n\n### 2. The question to solve:\nThis project will try to explore the most suitable place, age group preferences, menu and other issues which is crucial for people who want to build a restaurant business at the Baku city to see:\n\n* Which neighborhood of Baku city should a new restaurant be located?\n* What type of restaurant would be best in a given location??\n* Which types of restaurant would be pleasent for the customers?\n\n## II. Description of the data:\nBaku city was chosen as the observation target due to the following reasons:\n* Approximately, 2,262,600 people [are living](https://en.wikipedia.org/wiki/Baku) in Baku.\n* The availability of real restaurant, cafes data. Though very limited.\n* The diversity of count of the venues between places.\n* The availability of geo data which can be used to visualize the dataset onto a map.\n\n\nThe main data used for this project will be from these sources:\n\n* Data about all restaurant and cafes in Baku ([FourSquare API](https://foursquare.com/rafiqsv/list/all-restaurants-and-cafes-in-baku--2019))\n* List of neighborhoods of Baku. ([Wikipedia](https://en.wikipedia.org/wiki/Baku#Administrative_divisions))\n* Latitude and longitude coordinates of these neighborhoods. We need it for plotting map and get the data for venue.\n\n### 1. Data collection process:\nFirstly, neighborhoods will be scrapped from the Wikipedia page. Baku has 12 neighborhood totally. For doing it, I will use web scrapping methods, by means of requests and beautifulsoup packages of Python. For each  neighborhood, I will utilize Geocoder Python, which will show each neighborhood's coordinate.\nAfter that, I will use Foursquare API to order to get venue data for neighborhoods. Also, by using this API I will get some  In this project, Web Scrapping, working with Foursquare API, data cleaning and wrangling, machine learning and map visualization.\n", 
            "cell_type": "markdown", 
            "metadata": {}
        }
    ], 
    "metadata": {
        "kernelspec": {
            "display_name": "Python 3.6", 
            "name": "python3", 
            "language": "python"
        }, 
        "language_info": {
            "mimetype": "text/x-python", 
            "nbconvert_exporter": "python", 
            "version": "3.6.8", 
            "name": "python", 
            "file_extension": ".py", 
            "pygments_lexer": "ipython3", 
            "codemirror_mode": {
                "version": 3, 
                "name": "ipython"
            }
        }
    }, 
    "nbformat": 4
}