{
    "nbformat_minor": 1, 
    "cells": [
        {
            "execution_count": 1, 
            "cell_type": "code", 
            "metadata": {}, 
            "outputs": [], 
            "source": "import pandas as pd"
        }, 
        {
            "execution_count": 2, 
            "cell_type": "code", 
            "metadata": {}, 
            "outputs": [], 
            "source": "#Use the Notebook to build the code to scrape the following Wikipedia pag\ntables=pd.read_html(\"https://en.wikipedia.org/wiki/List_of_postal_codes_of_Canada:_M\")\ndata=tables[0]\n\n#The dataframe will consist of three columns: PostalCode, Borough, and Neighborhood\ndata.columns=[\"PostalCode\",\"Borough\",\"Neighborhood\"]\n\n#Only process the cells that have an assigned borough. Ignore cells with a borough that is Not assigned.\ndata=data[data['Borough']!= 'Not assigned']"
        }, 
        {
            "execution_count": 6, 
            "cell_type": "code", 
            "metadata": {}, 
            "outputs": [
                {
                    "execution_count": 6, 
                    "metadata": {}, 
                    "data": {
                        "text/html": "<div>\n<style scoped>\n    .dataframe tbody tr th:only-of-type {\n        vertical-align: middle;\n    }\n\n    .dataframe tbody tr th {\n        vertical-align: top;\n    }\n\n    .dataframe thead th {\n        text-align: right;\n    }\n</style>\n<table border=\"1\" class=\"dataframe\">\n  <thead>\n    <tr style=\"text-align: right;\">\n      <th></th>\n      <th>PostalCode</th>\n      <th>Borough</th>\n      <th>Neighborhood</th>\n    </tr>\n  </thead>\n  <tbody>\n    <tr>\n      <th>0</th>\n      <td>M3A</td>\n      <td>North York</td>\n      <td>Parkwoods</td>\n    </tr>\n    <tr>\n      <th>1</th>\n      <td>M4A</td>\n      <td>North York</td>\n      <td>Victoria Village</td>\n    </tr>\n    <tr>\n      <th>2</th>\n      <td>M5A</td>\n      <td>Downtown Toronto</td>\n      <td>Harbourfront</td>\n    </tr>\n    <tr>\n      <th>3</th>\n      <td>M6A</td>\n      <td>North York</td>\n      <td>Lawrence Heights</td>\n    </tr>\n    <tr>\n      <th>4</th>\n      <td>M9A</td>\n      <td>Etobicoke</td>\n      <td>Islington Avenue</td>\n    </tr>\n  </tbody>\n</table>\n</div>", 
                        "text/plain": "  PostalCode           Borough      Neighborhood\n0        M3A        North York         Parkwoods\n1        M4A        North York  Victoria Village\n2        M5A  Downtown Toronto      Harbourfront\n3        M6A        North York  Lawrence Heights\n4        M9A         Etobicoke  Islington Avenue"
                    }, 
                    "output_type": "execute_result"
                }
            ], 
            "source": "#More than one neighborhood can exist in one postal code area,These two rows will be combined into one row with the neighborhoods.\nunique_postal=data['PostalCode'].unique()\ndata.set_index('PostalCode',drop=False,inplace=True)\nseperator=', '\nfor x in unique_postal:\n    a=data.loc[x]\n    if a.size>3:\n        neighborhood=seperator.join(a['Neighborhood'])\n        data.loc[x,'Neighborhood']=neighborhood\ndata.drop_duplicates('PostalCode', inplace=True)\ndata.reset_index(drop = True, inplace=True)\ndata.head()"
        }, 
        {
            "execution_count": 4, 
            "cell_type": "code", 
            "metadata": {}, 
            "outputs": [], 
            "source": "#If a cell has a borough but a Not assigned neighborhood, then the neighborhood will be the same as the borough\ndata=data[data['Neighborhood']!= 'Not assigned']\n\n#So for the 9th cell in the table on the Wikipedia page, the value of the Borough and the Neighborhood columns will be Queen's Park.\ndata.set_index('PostalCode',drop=False,inplace=True)\ndata.loc['M9V']['Borough']=data.loc['M9V']['Neighborhood']=\"Queen's Park\"\ndata.reset_index(drop = True, inplace=True)\n"
        }, 
        {
            "execution_count": 5, 
            "cell_type": "code", 
            "metadata": {}, 
            "outputs": [
                {
                    "output_type": "stream", 
                    "name": "stdout", 
                    "text": "The shape of this dataframe is (102, 3)\n"
                }
            ], 
            "source": "#In the last cell of your notebook, use the .shape method to print the number of rows of your dataframe.\nprint(\"The shape of this dataframe is \"+ str(data.shape))"
        }
    ], 
    "metadata": {
        "kernelspec": {
            "display_name": "Python 3.6", 
            "name": "python3", 
            "language": "python"
        }, 
        "language_info": {
            "mimetype": "text/x-python", 
            "nbconvert_exporter": "python", 
            "version": "3.6.8", 
            "name": "python", 
            "file_extension": ".py", 
            "pygments_lexer": "ipython3", 
            "codemirror_mode": {
                "version": 3, 
                "name": "ipython"
            }
        }
    }, 
    "nbformat": 4
}